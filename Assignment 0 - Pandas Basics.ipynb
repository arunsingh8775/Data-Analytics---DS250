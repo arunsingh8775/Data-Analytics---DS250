{
 "cells": [
  {
   "cell_type": "code",
   "execution_count": 245,
   "metadata": {},
   "outputs": [
    {
     "name": "stdout",
     "output_type": "stream",
     "text": [
      "              Timestamp    Score  ID Prefix                  A1    A2  \\\n",
      "0    28/7/2020 16:55:17  20 / 20      117.0      [8, 5, 13, 18]  5/16   \n",
      "1    28/7/2020 16:55:50  20 / 20      118.0      [8, 5, 13, 18]  5/16   \n",
      "2    28/7/2020 16:55:57  10 / 20      117.0  [5, 8, 13, 21, 34]  5/16   \n",
      "3    28/7/2020 16:56:03   5 / 20      117.0      [8, 5, 13, 18]  1/32   \n",
      "4    28/7/2020 16:56:06  10 / 20      117.0      [8, 5, 13, 18]  1/32   \n",
      "..                  ...      ...        ...                 ...   ...   \n",
      "118  28/7/2020 17:03:44  20 / 20      118.0      [8, 5, 13, 18]  5/16   \n",
      "119  28/7/2020 17:04:01  20 / 20      117.0      [8, 5, 13, 18]  5/16   \n",
      "120  28/7/2020 17:04:05  15 / 20      118.0      [8, 5, 13, 18]  5/16   \n",
      "121  28/7/2020 17:04:17  10 / 20      118.0      [8, 5, 13, 18]  5/16   \n",
      "122  28/7/2020 17:04:44  20 / 20      118.0      [8, 5, 13, 18]  5/16   \n",
      "\n",
      "                                              A3      A4  \n",
      "0                                    140 seconds    5 TB  \n",
      "1                                    140 seconds    5 TB  \n",
      "2                                    120 seconds    5 TB  \n",
      "3    It is not possible to sort so many numbers!  500 GB  \n",
      "4                                    120 seconds    5 TB  \n",
      "..                                           ...     ...  \n",
      "118                                  140 seconds    5 TB  \n",
      "119                                  140 seconds    5 TB  \n",
      "120                                  140 seconds    5 PB  \n",
      "121                                  120 seconds  500 GB  \n",
      "122                                  140 seconds    5 TB  \n",
      "\n",
      "[123 rows x 7 columns]\n"
     ]
    }
   ],
   "source": [
    "import pandas as pd\n",
    "import datetime\n",
    "import pandas as pd\n",
    "import numpy as np\n",
    "import matplotlib.pyplot as plt\n",
    "\n",
    "\n",
    "df = pd.read_csv (r'C:\\Users\\Arun kumar singh\\Downloads\\a.csv')\n",
    "print(df)"
   ]
  },
  {
   "cell_type": "markdown",
   "metadata": {},
   "source": [
    "# a. What was the average score, the median, the variance .."
   ]
  },
  {
   "cell_type": "code",
   "execution_count": 246,
   "metadata": {},
   "outputs": [
    {
     "name": "stdout",
     "output_type": "stream",
     "text": [
      "Average\n",
      "16.463414634146343\n",
      "\n",
      "Median\n",
      "20.0\n",
      "\n",
      "Variance\n",
      "22.840863654538182\n",
      "\n"
     ]
    }
   ],
   "source": [
    "df[['Marks','Total Marks']] = df.Score.str.split(\"/\",expand=True)\n",
    "df[\"Marks\"] = df['Marks'].astype(int)\n",
    "\n",
    "#finding avegae scores of the students\n",
    "print(\"Average\")\n",
    "print(df[\"Marks\"].mean())\n",
    "print()\n",
    "\n",
    "#finding median scores of the students\n",
    "print(\"Median\")\n",
    "print(df[\"Marks\"].median())\n",
    "print()\n",
    "\n",
    "#finding variance of scores\n",
    "print(\"Variance\")\n",
    "print(df[\"Marks\"].var())\n",
    "print()"
   ]
  },
  {
   "cell_type": "markdown",
   "metadata": {},
   "source": [
    "# b. How much time did students take to complete the quiz (average, median.. \n",
    "# )? Assume, we started at ​28/7/2020 16:47:00"
   ]
  },
  {
   "cell_type": "code",
   "execution_count": 247,
   "metadata": {},
   "outputs": [
    {
     "name": "stdout",
     "output_type": "stream",
     "text": [
      "Average Time Take by students\n",
      "0 days 00:13:11.796747\n",
      "\n",
      "Median Time Taken by students\n",
      "0 days 00:13:14\n",
      "\n"
     ]
    }
   ],
   "source": [
    "#changing the data type of column 'Timestamp' as datetime\n",
    "df['Timestamp'] = df['Timestamp'].astype('datetime64[ns]')\n",
    "x = datetime.datetime(2020, 7, 28,16,47,0)\n",
    "\n",
    "df['Time Taken'] = df['Timestamp']-x;\n",
    "print(\"Average Time Take by students\")\n",
    "print(df['Time Taken'].mean())\n",
    "print()\n",
    "\n",
    "print(\"Median Time Taken by students\")\n",
    "print(df['Time Taken'].median())\n",
    "print()"
   ]
  },
  {
   "cell_type": "markdown",
   "metadata": {},
   "source": [
    "# c. If you know how to plot in Python, try to make histograms and a completion curve with number of students on Y axis and time on X axis"
   ]
  },
  {
   "cell_type": "code",
   "execution_count": 250,
   "metadata": {},
   "outputs": [
    {
     "name": "stdout",
     "output_type": "stream",
     "text": [
      "Graph of number of students completed the test vs Time\n"
     ]
    },
    {
     "data": {
      "text/plain": [
       "Text(0, 0.5, 'Time')"
      ]
     },
     "execution_count": 250,
     "metadata": {},
     "output_type": "execute_result"
    },
    {
     "data": {
      "image/png": "[encoded data removed]",
      "text/plain": [
       "<Figure size 864x576 with 1 Axes>"
      ]
     },
     "metadata": {
      "needs_background": "light"
     },
     "output_type": "display_data"
    }
   ],
   "source": [
    "print(\"Graph of number of students completed the test vs Time\")\n",
    "\n",
    "#Chaning the size of graph\n",
    "fig_size = plt.rcParams[\"figure.figsize\"]\n",
    "fig_size[0] = 12\n",
    "fig_size[1] = 8\n",
    "plt.rcParams[\"figure.figsize\"] = fig_size\n",
    "\n",
    "#Plotting Graph\n",
    "df['Timestamp'].hist(bins=10,grid=False)\n",
    "plt.xlabel(\"Number of Students\", fontsize=15)\n",
    "plt.ylabel(\"Time\",fontsize=15)"
   ]
  },
  {
   "cell_type": "markdown",
   "metadata": {},
   "source": [
    "# d. Did 3rd year students perform better than the 4th year students?"
   ]
  },
  {
   "cell_type": "code",
   "execution_count": 249,
   "metadata": {},
   "outputs": [
    {
     "name": "stdout",
     "output_type": "stream",
     "text": [
      "Average score of 4th year students\n",
      "16.73076923076923\n",
      "\n",
      "Average score of 3rd year students\n",
      "16.119402985074625\n"
     ]
    }
   ],
   "source": [
    "print(\"Average score of 4th year students\")\n",
    "means = df.groupby('ID Prefix')['Marks'].mean()\n",
    "print(means.iloc[0])\n",
    "print()\n",
    "\n",
    "print(\"Average score of 3rd year students\")\n",
    "print(means.iloc[1])"
   ]
  },
  {
   "cell_type": "markdown",
   "metadata": {},
   "source": [
    "\n",
    "# e. Which question was most difficult and which was the easiest?"
   ]
  },
  {
   "cell_type": "code",
   "execution_count": 244,
   "metadata": {},
   "outputs": [
    {
     "name": "stdout",
     "output_type": "stream",
     "text": [
      "Number of students solved correctly\n",
      "\n",
      "Question 1\n",
      "106\n",
      "\n",
      "Question 2\n",
      "115\n",
      "\n",
      "Question 3\n",
      "80\n",
      "\n",
      "Question 4\n",
      "104\n",
      "\n"
     ]
    }
   ],
   "source": [
    "print(\"Number of students solved correctly\")\n",
    "print()\n",
    "\n",
    "print(\"Question 1\")\n",
    "print(len(df[df.A1=='[8, 5, 13, 18]']))\n",
    "print()\n",
    "\n",
    "print(\"Question 2\")\n",
    "print(len(df[df.A2=='5/16']))\n",
    "print()\n",
    "\n",
    "print(\"Question 3\")\n",
    "print(len(df[df.A3=='140 seconds']))\n",
    "print()\n",
    "\n",
    "print(\"Question 4\")\n",
    "print(len(df[df.A=='5 TB']))\n",
    "print()"
   ]
  }
 ],
 "metadata": {
  "kernelspec": {
   "display_name": "Python 3",
   "language": "python",
   "name": "python3"
  },
  "language_info": {
   "codemirror_mode": {
    "name": "ipython",
    "version": 3
   },
   "file_extension": ".py",
   "mimetype": "text/x-python",
   "name": "python",
   "nbconvert_exporter": "python",
   "pygments_lexer": "ipython3",
   "version": "3.8.3"
  }
 },
 "nbformat": 4,
 "nbformat_minor": 4
}
